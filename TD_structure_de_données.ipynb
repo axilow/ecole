{
  "nbformat": 4,
  "nbformat_minor": 0,
  "metadata": {
    "colab": {
      "provenance": [],
      "collapsed_sections": [
        "3dznLh7sHWuW",
        "BHgekYIlHC60"
      ]
    },
    "kernelspec": {
      "name": "python3",
      "display_name": "Python 3"
    },
    "language_info": {
      "name": "python"
    }
  },
  "cells": [
    {
      "cell_type": "markdown",
      "source": [
        "#1"
      ],
      "metadata": {
        "id": "3dznLh7sHWuW"
      }
    },
    {
      "cell_type": "code",
      "source": [
        "#une pile -> structure de donnée où le dernier élément venu est le premier sortie"
      ],
      "metadata": {
        "id": "YMVxKu02HYrL"
      },
      "execution_count": null,
      "outputs": []
    },
    {
      "cell_type": "code",
      "source": [
        "#une file -> c'est le permier element venu qui est le premier sortit"
      ],
      "metadata": {
        "id": "bm-oXCI_HkwM"
      },
      "execution_count": null,
      "outputs": []
    },
    {
      "cell_type": "markdown",
      "source": [
        "#2"
      ],
      "metadata": {
        "id": "7BDPLckbFFjW"
      }
    },
    {
      "cell_type": "markdown",
      "source": [
        "##1"
      ],
      "metadata": {
        "id": "LbUbjYONFIK-"
      }
    },
    {
      "cell_type": "markdown",
      "source": [
        "###1"
      ],
      "metadata": {
        "id": "g4NFDRCpFMuF"
      }
    },
    {
      "cell_type": "code",
      "execution_count": null,
      "metadata": {
        "id": "d5P-eLAiBrvL"
      },
      "outputs": [],
      "source": [
        "#get_fibonacci(n: int) -> int"
      ]
    },
    {
      "cell_type": "markdown",
      "source": [
        "###2"
      ],
      "metadata": {
        "id": "b0kUVuDuFYbV"
      }
    },
    {
      "cell_type": "code",
      "source": [
        "def get_fibonacci(n: int) -> int:\n",
        "  fibo = [1,1]\n",
        "  while len(fibo) < n:\n",
        "    fibo.append(sum(fibo[-1::-1]))\n",
        "  return fibo[-1]\n",
        "get_fibonacci(500)"
      ],
      "metadata": {
        "colab": {
          "base_uri": "https://localhost:8080/"
        },
        "id": "CT8xbuy0FZJF",
        "outputId": "9785acae-7f52-4e4f-9acc-6bba14342ca4"
      },
      "execution_count": null,
      "outputs": [
        {
          "output_type": "execute_result",
          "data": {
            "text/plain": [
              "818347651974035467503297424206899788054160511510766197370822842024033449101168638720817523081476039287721671031890017752304314136471348263332131897344"
            ]
          },
          "metadata": {},
          "execution_count": 82
        }
      ]
    },
    {
      "cell_type": "code",
      "source": [
        "def get_fibonacci(n:int) -> int:\n",
        "  fibo = [1,1]\n",
        "  for i in range(n-2):\n",
        "    fibo.append(sum(fibo[-1::-1]))\n",
        "  return fibo[-1]\n",
        "get_fibonacci(500)"
      ],
      "metadata": {
        "colab": {
          "base_uri": "https://localhost:8080/"
        },
        "id": "DhREfLslGMUN",
        "outputId": "986ef593-d993-41ee-af99-c58b51ad9d55"
      },
      "execution_count": null,
      "outputs": [
        {
          "output_type": "execute_result",
          "data": {
            "text/plain": [
              "818347651974035467503297424206899788054160511510766197370822842024033449101168638720817523081476039287721671031890017752304314136471348263332131897344"
            ]
          },
          "metadata": {},
          "execution_count": 2
        }
      ]
    },
    {
      "cell_type": "markdown",
      "source": [
        "##2"
      ],
      "metadata": {
        "id": "BHgekYIlHC60"
      }
    },
    {
      "cell_type": "code",
      "source": [
        "#interface\n",
        "#entrée = mot et lettre\n",
        "#sortie = mot avec toute les lettre similaire a la première changé en \"lettre\""
      ],
      "metadata": {
        "id": "eXMtwoMnHAWT"
      },
      "execution_count": null,
      "outputs": []
    },
    {
      "cell_type": "markdown",
      "source": [
        "##3"
      ],
      "metadata": {
        "id": "nHBz-3d6IOmp"
      }
    },
    {
      "cell_type": "code",
      "source": [
        "def multipass(a, b, word:str):\n",
        "  if type(a)==type(b)==bool:\n",
        "    match word:\n",
        "      case \"or\":\n",
        "        return a or b\n",
        "      case \"xor\":\n",
        "        return a or b and not (a and b)\n",
        "      case \"nand\":\n",
        "        return not (a and b)\n",
        "      case \"nor\":\n",
        "        return not (a or b)\n",
        "      case _:\n",
        "        return None"
      ],
      "metadata": {
        "id": "gwFulmPPIPfA"
      },
      "execution_count": null,
      "outputs": []
    },
    {
      "cell_type": "code",
      "source": [
        "class Multipass:\n",
        "  def __init__(self,a,b):\n",
        "    self.a = a\n",
        "    self.b = b\n",
        "  def multipass (self,word:str):\n",
        "    a = self.a\n",
        "    b = self.b\n",
        "    print(a,b)\n",
        "    if type(a)==type(b)==bool:\n",
        "      match word:\n",
        "        case \"or\":\n",
        "          return a or b\n",
        "        case \"xor\":\n",
        "          return a or b and not (a and b)\n",
        "        case \"nand\":\n",
        "          return not (a and b)\n",
        "        case \"nor\":\n",
        "          return not (a or b)\n",
        "        case _:\n",
        "          return None\n",
        "    return None"
      ],
      "metadata": {
        "id": "-NVIuhQ7bjyk"
      },
      "execution_count": null,
      "outputs": []
    },
    {
      "cell_type": "code",
      "source": [
        "multipass_ = Multipass(True, False)\n",
        "print(multipass_.multipass(\"xor\"))"
      ],
      "metadata": {
        "colab": {
          "base_uri": "https://localhost:8080/"
        },
        "id": "bVBXiE4HbutK",
        "outputId": "96497797-22a1-4ccc-83f2-e7b853d88f90"
      },
      "execution_count": null,
      "outputs": [
        {
          "output_type": "stream",
          "name": "stdout",
          "text": [
            "True False\n",
            "True\n"
          ]
        }
      ]
    },
    {
      "cell_type": "code",
      "source": [
        "def multipass(a, b, word:str):\n",
        "  if type(a)==type(b)==bool:\n",
        "    if word==\"or\":\n",
        "      return a or b\n",
        "    elif word==\"xor\":\n",
        "      return a or b and not (a and b)\n",
        "    elif word==\"nand\":\n",
        "      return not (a and b)\n",
        "    elif word==\"nor\":\n",
        "      return not (a or b)\n",
        "    else:\n",
        "      return None"
      ],
      "metadata": {
        "id": "1S2eLeWcblZS"
      },
      "execution_count": null,
      "outputs": []
    },
    {
      "cell_type": "code",
      "source": [
        "def mutlipass(a,b,word:str):\n",
        "  carnot = [[0,0,1,1],\n",
        "            [1,1,1,0],\n",
        "            [1,0,0,1]]\n",
        "  if type(a)==type(b)==bool:\n",
        "    if a == False and b == False:\n",
        "      number = 0\n",
        "    elif a==True and b ==True:\n",
        "      number = 2\n",
        "    else:\n",
        "      number = 1\n",
        "\n",
        "    ligne = carnot[number]\n",
        "    if word==\"or\":\n",
        "      return ligne[0]\n",
        "    elif word==\"xor\":\n",
        "      return ligne[1]\n",
        "    elif word==\"nand\":\n",
        "      return ligne[2]\n",
        "    elif word==\"nor\":\n",
        "      return ligne[3]\n",
        "    else:\n",
        "      return None\n"
      ],
      "metadata": {
        "id": "Ze1AOOM1doeb"
      },
      "execution_count": null,
      "outputs": []
    },
    {
      "cell_type": "markdown",
      "source": [
        "#3"
      ],
      "metadata": {
        "id": "BjxwTHb2epI0"
      }
    },
    {
      "cell_type": "code",
      "source": [
        "def moyenne(liste):\n",
        "  sum = 0\n",
        "  count = 0\n",
        "  for elem in liste:\n",
        "    sum+=elem[0]*elem[1]\n",
        "    count += elem[1]\n",
        "  return sum/count"
      ],
      "metadata": {
        "id": "N5mkuisOep2K"
      },
      "execution_count": null,
      "outputs": []
    },
    {
      "cell_type": "code",
      "source": [
        "moyenne(((2,4),(6,12)))"
      ],
      "metadata": {
        "colab": {
          "base_uri": "https://localhost:8080/"
        },
        "id": "Nupp8ZEwfUXz",
        "outputId": "5d391d51-a654-4339-b3c5-54008927048c"
      },
      "execution_count": null,
      "outputs": [
        {
          "output_type": "execute_result",
          "data": {
            "text/plain": [
              "5.0"
            ]
          },
          "metadata": {},
          "execution_count": 43
        }
      ]
    },
    {
      "cell_type": "markdown",
      "source": [
        "#4"
      ],
      "metadata": {
        "id": "XTQjNXt_fpmb"
      }
    },
    {
      "cell_type": "markdown",
      "source": [
        "##1"
      ],
      "metadata": {
        "id": "lcnf5xvBfwhm"
      }
    },
    {
      "cell_type": "code",
      "source": [
        "#12,14,8,7,19,22,42\n",
        "#14,8,7,19,22,42\n",
        "#14, pas modifier\n",
        "#True"
      ],
      "metadata": {
        "id": "QPC8fi9ifn8r"
      },
      "execution_count": null,
      "outputs": []
    },
    {
      "cell_type": "markdown",
      "source": [
        "##2"
      ],
      "metadata": {
        "id": "TXKHvxu9ge77"
      }
    },
    {
      "cell_type": "code",
      "source": [
        "def positif ( pile ):\n",
        "  pile_1 = list( pile )\n",
        "  pile_2 = []\n",
        "  while pile_1 != []:\n",
        "    x = pile_1.pop()\n",
        "    if x >= 0:\n",
        "      pile_2.append(x)\n",
        "  while pile_2 != []:\n",
        "    x = pile_2.pop()\n",
        "    pile_1.append(x)\n",
        "  return pile_1"
      ],
      "metadata": {
        "id": "A-AT7dOtggSS"
      },
      "execution_count": null,
      "outputs": []
    },
    {
      "cell_type": "code",
      "source": [
        "positif([4,5,4,8,4,-8,7,-4,7])"
      ],
      "metadata": {
        "colab": {
          "base_uri": "https://localhost:8080/"
        },
        "id": "Hx0fWpSIjHxk",
        "outputId": "a311faf4-77db-4ddc-caed-29e6462672e2"
      },
      "execution_count": null,
      "outputs": [
        {
          "output_type": "execute_result",
          "data": {
            "text/plain": [
              "[4, 5, 4, 8, 4, 7, 7]"
            ]
          },
          "metadata": {},
          "execution_count": 48
        }
      ]
    },
    {
      "cell_type": "markdown",
      "source": [
        "##3"
      ],
      "metadata": {
        "id": "QKDHvL_YmzAA"
      }
    },
    {
      "cell_type": "code",
      "source": [
        "#on peut \"aisement\" ajouter un nouvel élément a la racine et en enlever un a la fin"
      ],
      "metadata": {
        "id": "yQUxme8NmEZc"
      },
      "execution_count": null,
      "outputs": []
    },
    {
      "cell_type": "code",
      "source": [
        "class file:\n",
        "  def __init__(self):\n",
        "    self.file = []\n",
        "  def sort(self):\n",
        "    return self.file.pop()\n",
        "  def mettre(self, personne):\n",
        "    return self.file.insert(0,personne)\n",
        "  def afficher(self):\n",
        "    for elem in self.file:\n",
        "      print(elem)"
      ],
      "metadata": {
        "id": "Z2QBs_qwnDv3"
      },
      "execution_count": null,
      "outputs": []
    },
    {
      "cell_type": "code",
      "source": [
        "file = file()"
      ],
      "metadata": {
        "id": "AvCfhnNeoqPw"
      },
      "execution_count": null,
      "outputs": []
    },
    {
      "cell_type": "code",
      "source": [
        "file.mettre(\"Legolas\")"
      ],
      "metadata": {
        "id": "t-zDVNdSo6TT"
      },
      "execution_count": null,
      "outputs": []
    },
    {
      "cell_type": "code",
      "source": [
        "file.mettre(\"Grmnir\")"
      ],
      "metadata": {
        "id": "VU-K1BWbpEvd"
      },
      "execution_count": null,
      "outputs": []
    },
    {
      "cell_type": "code",
      "source": [
        "file.sort()"
      ],
      "metadata": {
        "colab": {
          "base_uri": "https://localhost:8080/",
          "height": 35
        },
        "id": "64c0gaWmqRDD",
        "outputId": "8e3ec7f6-e85b-42c1-b621-b6bdc2419f5d"
      },
      "execution_count": null,
      "outputs": [
        {
          "output_type": "execute_result",
          "data": {
            "text/plain": [
              "'Legolas'"
            ],
            "application/vnd.google.colaboratory.intrinsic+json": {
              "type": "string"
            }
          },
          "metadata": {},
          "execution_count": 75
        }
      ]
    },
    {
      "cell_type": "code",
      "source": [
        "file.mettre(\"Aragorn\")"
      ],
      "metadata": {
        "id": "aYPYXeeUqUgr"
      },
      "execution_count": null,
      "outputs": []
    },
    {
      "cell_type": "code",
      "source": [
        "file.sort()"
      ],
      "metadata": {
        "colab": {
          "base_uri": "https://localhost:8080/",
          "height": 35
        },
        "id": "aMZjc8jTqdoz",
        "outputId": "c2665c03-67df-4367-cd2e-844307061d86"
      },
      "execution_count": null,
      "outputs": [
        {
          "output_type": "execute_result",
          "data": {
            "text/plain": [
              "'Grmnir'"
            ],
            "application/vnd.google.colaboratory.intrinsic+json": {
              "type": "string"
            }
          },
          "metadata": {},
          "execution_count": 77
        }
      ]
    },
    {
      "cell_type": "code",
      "source": [
        "file.sort()"
      ],
      "metadata": {
        "colab": {
          "base_uri": "https://localhost:8080/",
          "height": 35
        },
        "id": "dj-I2b1dqfoL",
        "outputId": "1e207a77-f2c7-43f8-8e8d-d090db73b882"
      },
      "execution_count": null,
      "outputs": [
        {
          "output_type": "execute_result",
          "data": {
            "text/plain": [
              "'Aragorn'"
            ],
            "application/vnd.google.colaboratory.intrinsic+json": {
              "type": "string"
            }
          },
          "metadata": {},
          "execution_count": 78
        }
      ]
    },
    {
      "cell_type": "markdown",
      "source": [
        "##4"
      ],
      "metadata": {
        "id": "uPXU9Rhlqyj-"
      }
    },
    {
      "cell_type": "code",
      "source": [
        "#a) on reempile toute les element de la pile 1 a la pile 2 puis de 2 a 3 puis de 3 a 4\n",
        "for element in P1:\n",
        "  P2.append(P1.pop())\n",
        "for element in P2:\n",
        "  P3.append(P2.pop())\n",
        "for element in P3:\n",
        "  P1.append(P3.pop())"
      ],
      "metadata": {
        "id": "2L40rCgRqhfE"
      },
      "execution_count": null,
      "outputs": []
    },
    {
      "cell_type": "code",
      "source": [
        "#b) on deplace juste un entier sur P2, le suivant sur P3\n",
        "goP2 = True\n",
        "for element in P1:\n",
        "  if goP2:\n",
        "    P2.append(P1.pop())\n",
        "    goP2 = False\n",
        "  else\n",
        "    P3.append(P1.pop())\n",
        "    goP2 = True"
      ],
      "metadata": {
        "id": "WCAprxILtF_f"
      },
      "execution_count": null,
      "outputs": []
    },
    {
      "cell_type": "code",
      "source": [
        "#c) plutot self-explainatory\n",
        "for element in P1:\n",
        "  if element%2 == 0:\n",
        "    P2.append(P1.pop())\n",
        "  else:\n",
        "    P3.append(P1.pop())"
      ],
      "metadata": {
        "id": "4L2623Dzwkeb"
      },
      "execution_count": null,
      "outputs": []
    },
    {
      "cell_type": "markdown",
      "source": [
        "#5"
      ],
      "metadata": {
        "id": "h5EygPNEw4el"
      }
    },
    {
      "cell_type": "markdown",
      "source": [
        "##1"
      ],
      "metadata": {
        "id": "7RtlSNPVxE0F"
      }
    },
    {
      "cell_type": "code",
      "source": [
        "#donne le nom de toute les planetes tellurique"
      ],
      "metadata": {
        "id": "Nq2uRCTPw5kT"
      },
      "execution_count": null,
      "outputs": []
    },
    {
      "cell_type": "markdown",
      "source": [
        "##2"
      ],
      "metadata": {
        "id": "2lmF3skPxrc8"
      }
    },
    {
      "cell_type": "code",
      "source": [
        "liste_noir =[(1 ,1) ,(1 ,3) ,(3 ,1) ,(3 ,3)]\n",
        "liste_rouge =[(2 ,1) ,(2 ,2) ,(2 ,3)]\n",
        "pix ={}\n",
        "for i in range(3):\n",
        "  for j in range(3):\n",
        "    if ( i +1 , j +1) in liste_noir :\n",
        "      pix [( i +1 , j +1)]=(0 ,0 ,0)\n",
        "    if ( i +1 , j +1) in liste_rouge:\n",
        "      pix [( i +1 , j +1)]=(255,0,0)\n",
        "    else :\n",
        "      pix [( i +1 , j +1)]=(255,255,255)\n",
        "print ( \"pix ␣ : ␣ {}\". format ( pix ))\n",
        "print ( pix . items ())"
      ],
      "metadata": {
        "colab": {
          "base_uri": "https://localhost:8080/"
        },
        "id": "KHfxDEmpxr_B",
        "outputId": "7a2e6b22-46db-42ca-a25c-f6b55f1f63ea"
      },
      "execution_count": null,
      "outputs": [
        {
          "output_type": "stream",
          "name": "stdout",
          "text": [
            "pix ␣ : ␣ {(1, 1): (255, 255, 255), (1, 2): (255, 255, 255), (1, 3): (255, 255, 255), (2, 1): (255, 0, 0), (2, 2): (255, 0, 0), (2, 3): (255, 0, 0), (3, 1): (255, 255, 255), (3, 2): (255, 255, 255), (3, 3): (255, 255, 255)}\n",
            "dict_items([((1, 1), (255, 255, 255)), ((1, 2), (255, 255, 255)), ((1, 3), (255, 255, 255)), ((2, 1), (255, 0, 0)), ((2, 2), (255, 0, 0)), ((2, 3), (255, 0, 0)), ((3, 1), (255, 255, 255)), ((3, 2), (255, 255, 255)), ((3, 3), (255, 255, 255))])\n"
          ]
        }
      ]
    },
    {
      "cell_type": "code",
      "source": [],
      "metadata": {
        "id": "u1koIHPDyNDc"
      },
      "execution_count": null,
      "outputs": []
    }
  ]
}